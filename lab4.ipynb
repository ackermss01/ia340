{
 "cells": [
  {
   "cell_type": "markdown",
   "metadata": {},
   "source": [
    "# Lab4"
   ]
  },
  {
   "cell_type": "markdown",
   "metadata": {},
   "source": [
    "## import libs and connect to database"
   ]
  },
  {
   "cell_type": "code",
   "execution_count": 160,
   "metadata": {},
   "outputs": [],
   "source": [
    "import pandas\n",
    "import configparser\n",
    "import psycopg2"
   ]
  },
  {
   "cell_type": "code",
   "execution_count": 161,
   "metadata": {},
   "outputs": [],
   "source": [
    "config = configparser.ConfigParser()\n",
    "config.read('config.ini')\n",
    "\n",
    "host = config['myaws']['host']\n",
    "db = config['myaws']['db']\n",
    "user = config['myaws']['user']\n",
    "pwd = config['myaws']['pwd']"
   ]
  },
  {
   "cell_type": "code",
   "execution_count": 162,
   "metadata": {},
   "outputs": [],
   "source": [
    "conn = psycopg2.connect(\n",
    "                        host = host,\n",
    "                        user = user,\n",
    "                        password = pwd,\n",
    "                        database = db\n",
    "                        )"
   ]
  },
  {
   "cell_type": "code",
   "execution_count": 163,
   "metadata": {},
   "outputs": [],
   "source": [
    "cur = conn.cursor()"
   ]
  },
  {
   "cell_type": "markdown",
   "metadata": {},
   "source": [
    "## q1"
   ]
  },
  {
   "cell_type": "code",
   "execution_count": 164,
   "metadata": {},
   "outputs": [],
   "source": [
    "sql_q1 = \"\"\"\n",
    "            select * from gp17.student\n",
    "            \"\"\""
   ]
  },
  {
   "cell_type": "code",
   "execution_count": 165,
   "metadata": {},
   "outputs": [
    {
     "data": {
      "text/html": [
       "<div>\n",
       "<style scoped>\n",
       "    .dataframe tbody tr th:only-of-type {\n",
       "        vertical-align: middle;\n",
       "    }\n",
       "\n",
       "    .dataframe tbody tr th {\n",
       "        vertical-align: top;\n",
       "    }\n",
       "\n",
       "    .dataframe thead th {\n",
       "        text-align: right;\n",
       "    }\n",
       "</style>\n",
       "<table border=\"1\" class=\"dataframe\">\n",
       "  <thead>\n",
       "    <tr style=\"text-align: right;\">\n",
       "      <th></th>\n",
       "      <th>s_email</th>\n",
       "      <th>s_name</th>\n",
       "      <th>major</th>\n",
       "    </tr>\n",
       "  </thead>\n",
       "  <tbody>\n",
       "    <tr>\n",
       "      <th>0</th>\n",
       "      <td>s1@jmu.edu</td>\n",
       "      <td>s1</td>\n",
       "      <td>IA</td>\n",
       "    </tr>\n",
       "    <tr>\n",
       "      <th>1</th>\n",
       "      <td>s2@jmu.edu</td>\n",
       "      <td>s2</td>\n",
       "      <td>IA</td>\n",
       "    </tr>\n",
       "    <tr>\n",
       "      <th>2</th>\n",
       "      <td>s3@jmu.edu</td>\n",
       "      <td>s3</td>\n",
       "      <td>IA</td>\n",
       "    </tr>\n",
       "    <tr>\n",
       "      <th>3</th>\n",
       "      <td>s4@jmu.edu</td>\n",
       "      <td>s4</td>\n",
       "      <td>IA</td>\n",
       "    </tr>\n",
       "    <tr>\n",
       "      <th>4</th>\n",
       "      <td>s5@jmu.edu</td>\n",
       "      <td>s5</td>\n",
       "      <td>IA</td>\n",
       "    </tr>\n",
       "    <tr>\n",
       "      <th>5</th>\n",
       "      <td>s6@jmu.edu</td>\n",
       "      <td>s6</td>\n",
       "      <td>IA</td>\n",
       "    </tr>\n",
       "    <tr>\n",
       "      <th>6</th>\n",
       "      <td>s7@jmu.edu</td>\n",
       "      <td>s7</td>\n",
       "      <td>IA</td>\n",
       "    </tr>\n",
       "    <tr>\n",
       "      <th>7</th>\n",
       "      <td>s8@jmu.edu</td>\n",
       "      <td>s8</td>\n",
       "      <td>IA</td>\n",
       "    </tr>\n",
       "    <tr>\n",
       "      <th>8</th>\n",
       "      <td>s9@jmu.edu</td>\n",
       "      <td>s9</td>\n",
       "      <td>IA</td>\n",
       "    </tr>\n",
       "    <tr>\n",
       "      <th>9</th>\n",
       "      <td>s10@jmu.edu</td>\n",
       "      <td>s10</td>\n",
       "      <td>IA</td>\n",
       "    </tr>\n",
       "  </tbody>\n",
       "</table>\n",
       "</div>"
      ],
      "text/plain": [
       "       s_email s_name major\n",
       "0   s1@jmu.edu     s1    IA\n",
       "1   s2@jmu.edu     s2    IA\n",
       "2   s3@jmu.edu     s3    IA\n",
       "3   s4@jmu.edu     s4    IA\n",
       "4   s5@jmu.edu     s5    IA\n",
       "5   s6@jmu.edu     s6    IA\n",
       "6   s7@jmu.edu     s7    IA\n",
       "7   s8@jmu.edu     s8    IA\n",
       "8   s9@jmu.edu     s9    IA\n",
       "9  s10@jmu.edu    s10    IA"
      ]
     },
     "execution_count": 165,
     "metadata": {},
     "output_type": "execute_result"
    }
   ],
   "source": [
    "df= pandas.read_sql_query(sql_q1,conn)\n",
    "df[:]"
   ]
  },
  {
   "cell_type": "markdown",
   "metadata": {},
   "source": [
    "## q2"
   ]
  },
  {
   "cell_type": "code",
   "execution_count": 166,
   "metadata": {},
   "outputs": [],
   "source": [
    "sql_q2 = \"\"\"\n",
    "        select gp17.professor.p_name,\n",
    "        gp17.course.c_name\n",
    "        from gp17.professor\n",
    "        inner join gp17.course\n",
    "        on gp17.professor.p_email = gp17.course.p_email\n",
    "        \"\"\""
   ]
  },
  {
   "cell_type": "code",
   "execution_count": 167,
   "metadata": {},
   "outputs": [
    {
     "data": {
      "text/html": [
       "<div>\n",
       "<style scoped>\n",
       "    .dataframe tbody tr th:only-of-type {\n",
       "        vertical-align: middle;\n",
       "    }\n",
       "\n",
       "    .dataframe tbody tr th {\n",
       "        vertical-align: top;\n",
       "    }\n",
       "\n",
       "    .dataframe thead th {\n",
       "        text-align: right;\n",
       "    }\n",
       "</style>\n",
       "<table border=\"1\" class=\"dataframe\">\n",
       "  <thead>\n",
       "    <tr style=\"text-align: right;\">\n",
       "      <th></th>\n",
       "      <th>p_name</th>\n",
       "      <th>c_name</th>\n",
       "    </tr>\n",
       "  </thead>\n",
       "  <tbody>\n",
       "    <tr>\n",
       "      <th>0</th>\n",
       "      <td>Noel Hendrickson</td>\n",
       "      <td>Counterfactual Reasoning</td>\n",
       "    </tr>\n",
       "    <tr>\n",
       "      <th>1</th>\n",
       "      <td>Stephen Marrin</td>\n",
       "      <td>INTELLIGENCE ANALYSIS CAPSTONE PROJECT PREPARA...</td>\n",
       "    </tr>\n",
       "    <tr>\n",
       "      <th>2</th>\n",
       "      <td>Kathleen Moore</td>\n",
       "      <td>Technology Applications in a Networked World</td>\n",
       "    </tr>\n",
       "    <tr>\n",
       "      <th>3</th>\n",
       "      <td>new_p</td>\n",
       "      <td>new_c_name</td>\n",
       "    </tr>\n",
       "    <tr>\n",
       "      <th>4</th>\n",
       "      <td>new_p</td>\n",
       "      <td>data mining</td>\n",
       "    </tr>\n",
       "    <tr>\n",
       "      <th>5</th>\n",
       "      <td>new_p</td>\n",
       "      <td>data mining</td>\n",
       "    </tr>\n",
       "    <tr>\n",
       "      <th>6</th>\n",
       "      <td>()</td>\n",
       "      <td>()</td>\n",
       "    </tr>\n",
       "  </tbody>\n",
       "</table>\n",
       "</div>"
      ],
      "text/plain": [
       "             p_name                                             c_name\n",
       "0  Noel Hendrickson                           Counterfactual Reasoning\n",
       "1    Stephen Marrin  INTELLIGENCE ANALYSIS CAPSTONE PROJECT PREPARA...\n",
       "2    Kathleen Moore       Technology Applications in a Networked World\n",
       "3             new_p                                         new_c_name\n",
       "4             new_p                                        data mining\n",
       "5             new_p                                        data mining\n",
       "6                ()                                                 ()"
      ]
     },
     "execution_count": 167,
     "metadata": {},
     "output_type": "execute_result"
    }
   ],
   "source": [
    "df= pandas.read_sql_query(sql_q2,conn)\n",
    "df[:]"
   ]
  },
  {
   "cell_type": "markdown",
   "metadata": {},
   "source": [
    "## q3"
   ]
  },
  {
   "cell_type": "code",
   "execution_count": 168,
   "metadata": {},
   "outputs": [],
   "source": [
    "sql_q3 = \"\"\"\n",
    "        select c_number,\n",
    "        count(c_number) as enrolled\n",
    "        from gp17.enroll_list\n",
    "        group by c_number\n",
    "        order by enrolled desc\n",
    "        \"\"\""
   ]
  },
  {
   "cell_type": "code",
   "execution_count": 169,
   "metadata": {},
   "outputs": [
    {
     "data": {
      "text/plain": [
       "<matplotlib.axes._subplots.AxesSubplot at 0x7fc6b2f55160>"
      ]
     },
     "execution_count": 169,
     "metadata": {},
     "output_type": "execute_result"
    },
    {
     "data": {
      "image/png": "[encoded data removed]",
      "text/plain": [
       "<Figure size 432x288 with 1 Axes>"
      ]
     },
     "metadata": {
      "needs_background": "light"
     },
     "output_type": "display_data"
    }
   ],
   "source": [
    "df= pandas.read_sql_query(sql_q3,conn)\n",
    "df.plot.bar(y = 'enrolled', x = 'c_number')"
   ]
  },
  {
   "cell_type": "markdown",
   "metadata": {},
   "source": [
    "## q4"
   ]
  },
  {
   "cell_type": "code",
   "execution_count": 170,
   "metadata": {},
   "outputs": [],
   "source": [
    "sql_q4 = \"\"\"\n",
    "        select gp17.professor.p_name,\n",
    "        count(gp17.course.c_name) as teaching_number\n",
    "        from gp17.professor\n",
    "        inner join gp17.course\n",
    "        on gp17.professor.p_email = gp17.course.p_email\n",
    "        group by professor.p_name\n",
    "        order by teaching_number desc\n",
    "        \"\"\""
   ]
  },
  {
   "cell_type": "code",
   "execution_count": 171,
   "metadata": {},
   "outputs": [
    {
     "data": {
      "text/plain": [
       "<matplotlib.axes._subplots.AxesSubplot at 0x7fc6b2f37f28>"
      ]
     },
     "execution_count": 171,
     "metadata": {},
     "output_type": "execute_result"
    },
    {
     "data": {
      "image/png": "[encoded data removed]",
      "text/plain": [
       "<Figure size 432x288 with 1 Axes>"
      ]
     },
     "metadata": {
      "needs_background": "light"
     },
     "output_type": "display_data"
    }
   ],
   "source": [
    "df= pandas.read_sql_query(sql_q4,conn)\n",
    "df.plot.bar(y = 'teaching_number', x = 'p_name')"
   ]
  },
  {
   "cell_type": "markdown",
   "metadata": {},
   "source": [
    "## q5"
   ]
  },
  {
   "cell_type": "code",
   "execution_count": 204,
   "metadata": {},
   "outputs": [],
   "source": [
    "sql_q5_professor = \"\"\"\n",
    "                   insert into gp17.professor(p_email,p_name,office)\n",
    "                   values('()','()','()')\n",
    "                   \"\"\".format('new_p@jmu.edu','new_p','new_office')"
   ]
  },
  {
   "cell_type": "code",
   "execution_count": 205,
   "metadata": {},
   "outputs": [
    {
     "ename": "IntegrityError",
     "evalue": "duplicate key value violates unique constraint \"professor_pkey\"\nDETAIL:  Key (p_email)=(()) already exists.\n",
     "output_type": "error",
     "traceback": [
      "\u001b[0;31m---------------------------------------------------------------------------\u001b[0m",
      "\u001b[0;31mIntegrityError\u001b[0m                            Traceback (most recent call last)",
      "\u001b[0;32m<ipython-input-205-43f48278eb87>\u001b[0m in \u001b[0;36m<module>\u001b[0;34m\u001b[0m\n\u001b[0;32m----> 1\u001b[0;31m \u001b[0mcur\u001b[0m\u001b[0;34m.\u001b[0m\u001b[0mexecute\u001b[0m\u001b[0;34m(\u001b[0m\u001b[0msql_q5_professor\u001b[0m\u001b[0;34m)\u001b[0m\u001b[0;34m\u001b[0m\u001b[0;34m\u001b[0m\u001b[0m\n\u001b[0m",
      "\u001b[0;31mIntegrityError\u001b[0m: duplicate key value violates unique constraint \"professor_pkey\"\nDETAIL:  Key (p_email)=(()) already exists.\n"
     ]
    }
   ],
   "source": [
    "cur.execute(sql_q5_professor)"
   ]
  },
  {
   "cell_type": "code",
   "execution_count": 174,
   "metadata": {},
   "outputs": [],
   "source": [
    "conn.commit()"
   ]
  },
  {
   "cell_type": "code",
   "execution_count": 175,
   "metadata": {},
   "outputs": [
    {
     "data": {
      "text/html": [
       "<div>\n",
       "<style scoped>\n",
       "    .dataframe tbody tr th:only-of-type {\n",
       "        vertical-align: middle;\n",
       "    }\n",
       "\n",
       "    .dataframe tbody tr th {\n",
       "        vertical-align: top;\n",
       "    }\n",
       "\n",
       "    .dataframe thead th {\n",
       "        text-align: right;\n",
       "    }\n",
       "</style>\n",
       "<table border=\"1\" class=\"dataframe\">\n",
       "  <thead>\n",
       "    <tr style=\"text-align: right;\">\n",
       "      <th></th>\n",
       "      <th>p_email</th>\n",
       "      <th>p_name</th>\n",
       "      <th>office</th>\n",
       "    </tr>\n",
       "  </thead>\n",
       "  <tbody>\n",
       "    <tr>\n",
       "      <th>0</th>\n",
       "      <td>hendrinx@jmu.edu</td>\n",
       "      <td>Noel Hendrickson</td>\n",
       "      <td>N/A</td>\n",
       "    </tr>\n",
       "    <tr>\n",
       "      <th>1</th>\n",
       "      <td>marrinsp@jmu.edu</td>\n",
       "      <td>Stephen Marrin</td>\n",
       "      <td>Engeo2104</td>\n",
       "    </tr>\n",
       "    <tr>\n",
       "      <th>2</th>\n",
       "      <td>moore8ka@jmu.edu</td>\n",
       "      <td>Kathleen Moore</td>\n",
       "      <td>ISATCS116</td>\n",
       "    </tr>\n",
       "    <tr>\n",
       "      <th>3</th>\n",
       "      <td>new_p@jmu.edu</td>\n",
       "      <td>new_p</td>\n",
       "      <td>new_office</td>\n",
       "    </tr>\n",
       "    <tr>\n",
       "      <th>4</th>\n",
       "      <td>()</td>\n",
       "      <td>()</td>\n",
       "      <td>()</td>\n",
       "    </tr>\n",
       "  </tbody>\n",
       "</table>\n",
       "</div>"
      ],
      "text/plain": [
       "            p_email            p_name      office\n",
       "0  hendrinx@jmu.edu  Noel Hendrickson         N/A\n",
       "1  marrinsp@jmu.edu    Stephen Marrin   Engeo2104\n",
       "2  moore8ka@jmu.edu    Kathleen Moore   ISATCS116\n",
       "3     new_p@jmu.edu             new_p  new_office\n",
       "4                ()                ()          ()"
      ]
     },
     "execution_count": 175,
     "metadata": {},
     "output_type": "execute_result"
    }
   ],
   "source": [
    "df = pandas.read_sql_query(\"select* from gp17.professor\",conn)\n",
    "df[:]"
   ]
  },
  {
   "cell_type": "code",
   "execution_count": 176,
   "metadata": {},
   "outputs": [],
   "source": [
    "sql_q5_course = \"\"\"\n",
    "                   insert into gp17.course(c_number,c_name,room,p_email)\n",
    "                   values('()','()','()','()')\n",
    "                   \"\"\".format('ia_new','new_c_name','online','new_p@jmu.edu')"
   ]
  },
  {
   "cell_type": "code",
   "execution_count": 177,
   "metadata": {},
   "outputs": [
    {
     "ename": "IntegrityError",
     "evalue": "duplicate key value violates unique constraint \"course_pkey\"\nDETAIL:  Key (c_number)=(()) already exists.\n",
     "output_type": "error",
     "traceback": [
      "\u001b[0;31m---------------------------------------------------------------------------\u001b[0m",
      "\u001b[0;31mIntegrityError\u001b[0m                            Traceback (most recent call last)",
      "\u001b[0;32m<ipython-input-177-902ff13ea826>\u001b[0m in \u001b[0;36m<module>\u001b[0;34m\u001b[0m\n\u001b[0;32m----> 1\u001b[0;31m \u001b[0mcur\u001b[0m\u001b[0;34m.\u001b[0m\u001b[0mexecute\u001b[0m\u001b[0;34m(\u001b[0m\u001b[0msql_q5_course\u001b[0m\u001b[0;34m)\u001b[0m\u001b[0;34m\u001b[0m\u001b[0;34m\u001b[0m\u001b[0m\n\u001b[0m",
      "\u001b[0;31mIntegrityError\u001b[0m: duplicate key value violates unique constraint \"course_pkey\"\nDETAIL:  Key (c_number)=(()) already exists.\n"
     ]
    }
   ],
   "source": [
    "cur.execute(sql_q5_course)"
   ]
  },
  {
   "cell_type": "code",
   "execution_count": 178,
   "metadata": {},
   "outputs": [],
   "source": [
    "conn.commit()"
   ]
  },
  {
   "cell_type": "code",
   "execution_count": 179,
   "metadata": {},
   "outputs": [
    {
     "data": {
      "text/html": [
       "<div>\n",
       "<style scoped>\n",
       "    .dataframe tbody tr th:only-of-type {\n",
       "        vertical-align: middle;\n",
       "    }\n",
       "\n",
       "    .dataframe tbody tr th {\n",
       "        vertical-align: top;\n",
       "    }\n",
       "\n",
       "    .dataframe thead th {\n",
       "        text-align: right;\n",
       "    }\n",
       "</style>\n",
       "<table border=\"1\" class=\"dataframe\">\n",
       "  <thead>\n",
       "    <tr style=\"text-align: right;\">\n",
       "      <th></th>\n",
       "      <th>c_number</th>\n",
       "      <th>c_name</th>\n",
       "      <th>room</th>\n",
       "      <th>p_email</th>\n",
       "    </tr>\n",
       "  </thead>\n",
       "  <tbody>\n",
       "    <tr>\n",
       "      <th>0</th>\n",
       "      <td>IA313</td>\n",
       "      <td>Counterfactual Reasoning</td>\n",
       "      <td>Online</td>\n",
       "      <td>hendrinx@jmu.edu</td>\n",
       "    </tr>\n",
       "    <tr>\n",
       "      <th>1</th>\n",
       "      <td>IA440</td>\n",
       "      <td>INTELLIGENCE ANALYSIS CAPSTONE PROJECT PREPARA...</td>\n",
       "      <td>ENGEO 1301</td>\n",
       "      <td>marrinsp@jmu.edu</td>\n",
       "    </tr>\n",
       "    <tr>\n",
       "      <th>2</th>\n",
       "      <td>IA240</td>\n",
       "      <td>Technology Applications in a Networked World</td>\n",
       "      <td>Online</td>\n",
       "      <td>moore8ka@jmu.edu</td>\n",
       "    </tr>\n",
       "    <tr>\n",
       "      <th>3</th>\n",
       "      <td>ia_new</td>\n",
       "      <td>new_c_name</td>\n",
       "      <td>online</td>\n",
       "      <td>new_p@jmu.edu</td>\n",
       "    </tr>\n",
       "    <tr>\n",
       "      <th>4</th>\n",
       "      <td>IA340</td>\n",
       "      <td>data mining</td>\n",
       "      <td>online</td>\n",
       "      <td>new_p@jmu.edu</td>\n",
       "    </tr>\n",
       "    <tr>\n",
       "      <th>5</th>\n",
       "      <td>IA340</td>\n",
       "      <td>data mining</td>\n",
       "      <td>online</td>\n",
       "      <td>new_p@jmu.edu</td>\n",
       "    </tr>\n",
       "    <tr>\n",
       "      <th>6</th>\n",
       "      <td>()</td>\n",
       "      <td>()</td>\n",
       "      <td>()</td>\n",
       "      <td>()</td>\n",
       "    </tr>\n",
       "  </tbody>\n",
       "</table>\n",
       "</div>"
      ],
      "text/plain": [
       "  c_number                                             c_name        room  \\\n",
       "0    IA313                           Counterfactual Reasoning      Online   \n",
       "1    IA440  INTELLIGENCE ANALYSIS CAPSTONE PROJECT PREPARA...  ENGEO 1301   \n",
       "2    IA240       Technology Applications in a Networked World      Online   \n",
       "3   ia_new                                         new_c_name      online   \n",
       "4    IA340                                        data mining      online   \n",
       "5   IA340                                         data mining      online   \n",
       "6       ()                                                 ()          ()   \n",
       "\n",
       "            p_email  \n",
       "0  hendrinx@jmu.edu  \n",
       "1  marrinsp@jmu.edu  \n",
       "2  moore8ka@jmu.edu  \n",
       "3     new_p@jmu.edu  \n",
       "4     new_p@jmu.edu  \n",
       "5     new_p@jmu.edu  \n",
       "6                ()  "
      ]
     },
     "execution_count": 179,
     "metadata": {},
     "output_type": "execute_result"
    }
   ],
   "source": [
    "df = pandas.read_sql_query('select * from gp17.course',conn)\n",
    "df[:]"
   ]
  },
  {
   "cell_type": "markdown",
   "metadata": {},
   "source": [
    "## q6"
   ]
  },
  {
   "cell_type": "code",
   "execution_count": 186,
   "metadata": {},
   "outputs": [],
   "source": [
    "sql_q6_course = \"\"\"\n",
    "            update gp17.course\n",
    "            set p_email = '()'\n",
    "            where p_email = '()'\n",
    "            \"\"\".format('new_p@jmu.edu','weixx@jmu.edu')"
   ]
  },
  {
   "cell_type": "code",
   "execution_count": 190,
   "metadata": {},
   "outputs": [],
   "source": [
    "cur.execute(sql_q6_course)"
   ]
  },
  {
   "cell_type": "code",
   "execution_count": 191,
   "metadata": {},
   "outputs": [],
   "source": [
    "#cur.execute('ROLLBACK')"
   ]
  },
  {
   "cell_type": "code",
   "execution_count": 201,
   "metadata": {},
   "outputs": [],
   "source": [
    "conn.commit()"
   ]
  },
  {
   "cell_type": "code",
   "execution_count": 202,
   "metadata": {},
   "outputs": [
    {
     "data": {
      "text/html": [
       "<div>\n",
       "<style scoped>\n",
       "    .dataframe tbody tr th:only-of-type {\n",
       "        vertical-align: middle;\n",
       "    }\n",
       "\n",
       "    .dataframe tbody tr th {\n",
       "        vertical-align: top;\n",
       "    }\n",
       "\n",
       "    .dataframe thead th {\n",
       "        text-align: right;\n",
       "    }\n",
       "</style>\n",
       "<table border=\"1\" class=\"dataframe\">\n",
       "  <thead>\n",
       "    <tr style=\"text-align: right;\">\n",
       "      <th></th>\n",
       "      <th>c_number</th>\n",
       "      <th>c_name</th>\n",
       "      <th>room</th>\n",
       "      <th>p_email</th>\n",
       "    </tr>\n",
       "  </thead>\n",
       "  <tbody>\n",
       "    <tr>\n",
       "      <th>0</th>\n",
       "      <td>IA313</td>\n",
       "      <td>Counterfactual Reasoning</td>\n",
       "      <td>Online</td>\n",
       "      <td>hendrinx@jmu.edu</td>\n",
       "    </tr>\n",
       "    <tr>\n",
       "      <th>1</th>\n",
       "      <td>IA440</td>\n",
       "      <td>INTELLIGENCE ANALYSIS CAPSTONE PROJECT PREPARA...</td>\n",
       "      <td>ENGEO 1301</td>\n",
       "      <td>marrinsp@jmu.edu</td>\n",
       "    </tr>\n",
       "    <tr>\n",
       "      <th>2</th>\n",
       "      <td>IA240</td>\n",
       "      <td>Technology Applications in a Networked World</td>\n",
       "      <td>Online</td>\n",
       "      <td>moore8ka@jmu.edu</td>\n",
       "    </tr>\n",
       "    <tr>\n",
       "      <th>3</th>\n",
       "      <td>ia_new</td>\n",
       "      <td>new_c_name</td>\n",
       "      <td>online</td>\n",
       "      <td>new_p@jmu.edu</td>\n",
       "    </tr>\n",
       "    <tr>\n",
       "      <th>4</th>\n",
       "      <td>IA340</td>\n",
       "      <td>data mining</td>\n",
       "      <td>online</td>\n",
       "      <td>new_p@jmu.edu</td>\n",
       "    </tr>\n",
       "    <tr>\n",
       "      <th>5</th>\n",
       "      <td>IA340</td>\n",
       "      <td>data mining</td>\n",
       "      <td>online</td>\n",
       "      <td>new_p@jmu.edu</td>\n",
       "    </tr>\n",
       "    <tr>\n",
       "      <th>6</th>\n",
       "      <td>()</td>\n",
       "      <td>()</td>\n",
       "      <td>()</td>\n",
       "      <td>()</td>\n",
       "    </tr>\n",
       "  </tbody>\n",
       "</table>\n",
       "</div>"
      ],
      "text/plain": [
       "  c_number                                             c_name        room  \\\n",
       "0    IA313                           Counterfactual Reasoning      Online   \n",
       "1    IA440  INTELLIGENCE ANALYSIS CAPSTONE PROJECT PREPARA...  ENGEO 1301   \n",
       "2    IA240       Technology Applications in a Networked World      Online   \n",
       "3   ia_new                                         new_c_name      online   \n",
       "4    IA340                                        data mining      online   \n",
       "5   IA340                                         data mining      online   \n",
       "6       ()                                                 ()          ()   \n",
       "\n",
       "            p_email  \n",
       "0  hendrinx@jmu.edu  \n",
       "1  marrinsp@jmu.edu  \n",
       "2  moore8ka@jmu.edu  \n",
       "3     new_p@jmu.edu  \n",
       "4     new_p@jmu.edu  \n",
       "5     new_p@jmu.edu  \n",
       "6                ()  "
      ]
     },
     "execution_count": 202,
     "metadata": {},
     "output_type": "execute_result"
    }
   ],
   "source": [
    "df = pandas.read_sql_query('select * from gp17.course',conn)\n",
    "df[:]"
   ]
  },
  {
   "cell_type": "code",
   "execution_count": 203,
   "metadata": {},
   "outputs": [],
   "source": [
    "sql_q6_professor = \"\"\"\n",
    "                delete from gp17.professor\n",
    "                where p_email = '{}'\n",
    "                \"\"\".format('weixx@jmu.edu')"
   ]
  },
  {
   "cell_type": "code",
   "execution_count": 208,
   "metadata": {},
   "outputs": [],
   "source": [
    "cur.execute(sql_q6_professor)"
   ]
  },
  {
   "cell_type": "code",
   "execution_count": 209,
   "metadata": {},
   "outputs": [],
   "source": [
    "#cur.execute('ROLLBACK')"
   ]
  },
  {
   "cell_type": "code",
   "execution_count": 210,
   "metadata": {},
   "outputs": [
    {
     "data": {
      "text/html": [
       "<div>\n",
       "<style scoped>\n",
       "    .dataframe tbody tr th:only-of-type {\n",
       "        vertical-align: middle;\n",
       "    }\n",
       "\n",
       "    .dataframe tbody tr th {\n",
       "        vertical-align: top;\n",
       "    }\n",
       "\n",
       "    .dataframe thead th {\n",
       "        text-align: right;\n",
       "    }\n",
       "</style>\n",
       "<table border=\"1\" class=\"dataframe\">\n",
       "  <thead>\n",
       "    <tr style=\"text-align: right;\">\n",
       "      <th></th>\n",
       "      <th>p_email</th>\n",
       "      <th>p_name</th>\n",
       "      <th>office</th>\n",
       "    </tr>\n",
       "  </thead>\n",
       "  <tbody>\n",
       "    <tr>\n",
       "      <th>0</th>\n",
       "      <td>hendrinx@jmu.edu</td>\n",
       "      <td>Noel Hendrickson</td>\n",
       "      <td>N/A</td>\n",
       "    </tr>\n",
       "    <tr>\n",
       "      <th>1</th>\n",
       "      <td>marrinsp@jmu.edu</td>\n",
       "      <td>Stephen Marrin</td>\n",
       "      <td>Engeo2104</td>\n",
       "    </tr>\n",
       "    <tr>\n",
       "      <th>2</th>\n",
       "      <td>moore8ka@jmu.edu</td>\n",
       "      <td>Kathleen Moore</td>\n",
       "      <td>ISATCS116</td>\n",
       "    </tr>\n",
       "    <tr>\n",
       "      <th>3</th>\n",
       "      <td>new_p@jmu.edu</td>\n",
       "      <td>new_p</td>\n",
       "      <td>new_office</td>\n",
       "    </tr>\n",
       "    <tr>\n",
       "      <th>4</th>\n",
       "      <td>()</td>\n",
       "      <td>()</td>\n",
       "      <td>()</td>\n",
       "    </tr>\n",
       "  </tbody>\n",
       "</table>\n",
       "</div>"
      ],
      "text/plain": [
       "            p_email            p_name      office\n",
       "0  hendrinx@jmu.edu  Noel Hendrickson         N/A\n",
       "1  marrinsp@jmu.edu    Stephen Marrin   Engeo2104\n",
       "2  moore8ka@jmu.edu    Kathleen Moore   ISATCS116\n",
       "3     new_p@jmu.edu             new_p  new_office\n",
       "4                ()                ()          ()"
      ]
     },
     "execution_count": 210,
     "metadata": {},
     "output_type": "execute_result"
    }
   ],
   "source": [
    "df = pandas.read_sql_query('select * from gp17.professor',conn)\n",
    "df[:]"
   ]
  },
  {
   "cell_type": "markdown",
   "metadata": {},
   "source": [
    "## close connection"
   ]
  },
  {
   "cell_type": "code",
   "execution_count": 211,
   "metadata": {},
   "outputs": [],
   "source": [
    "cur.close()\n",
    "conn.close()"
   ]
  },
  {
   "cell_type": "code",
   "execution_count": null,
   "metadata": {},
   "outputs": [],
   "source": []
  }
 ],
 "metadata": {
  "kernelspec": {
   "display_name": "conda_python3",
   "language": "python",
   "name": "conda_python3"
  },
  "language_info": {
   "codemirror_mode": {
    "name": "ipython",
    "version": 3
   },
   "file_extension": ".py",
   "mimetype": "text/x-python",
   "name": "python",
   "nbconvert_exporter": "python",
   "pygments_lexer": "ipython3",
   "version": "3.6.10"
  }
 },
 "nbformat": 4,
 "nbformat_minor": 4
}
